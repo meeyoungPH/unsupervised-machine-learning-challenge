{
 "cells": [
  {
   "attachments": {},
   "cell_type": "markdown",
   "metadata": {},
   "source": [
    "# Code Snippets from GT Bootcamp Lessons"
   ]
  },
  {
   "attachments": {},
   "cell_type": "markdown",
   "metadata": {},
   "source": [
    "# Module 14 - Interactive Web Visualizations\n"
   ]
  },
  {
   "attachments": {},
   "cell_type": "markdown",
   "metadata": {},
   "source": [
    "## 14.3 Activities\n",
    "| #  | Lesson Name            | New Content |\n",
    "|----|------------------------|-------------|\n",
    "| 1  | Intro to D3             | fetch JSON data and console log it |\n",
    "| 2  | D3 JSON                 | same as above |\n",
    "| 3  | D3 Select (ins)         | select specific DOM tags, classes, and IDs |\n",
    "| 4  | D3 Select (stu)         | same as above |\n",
    "| 5  | Event listeners         | button and input field |\n",
    "| 6  | Button click            |  |\n",
    "| 7  | This                    |  |\n",
    "| 8  | This button             |  |\n",
    "| 9  | Dropdown events         |  |\n",
    "| 10 | Event final             |  |"
   ]
  },
  {
   "attachments": {},
   "cell_type": "markdown",
   "metadata": {},
   "source": [
    "### 14.3.1 - Intro to D3: fetch JSON data and console log it"
   ]
  },
  {
   "cell_type": "code",
   "execution_count": null,
   "metadata": {
    "vscode": {
     "languageId": "javascript"
    }
   },
   "outputs": [],
   "source": [
    "const url = \"https://api.spacexdata.com/v2/launchpads\";\n",
    "\n",
    "// Promise Pending\n",
    "const dataPromise = d3.json(url);\n",
    "console.log(\"Data Promise: \", dataPromise);\n",
    "\n",
    "// Fetch the JSON data and console log it\n",
    "d3.json(url).then(function(data) {\n",
    "  console.log(data);\n",
    "});"
   ]
  },
  {
   "attachments": {},
   "cell_type": "markdown",
   "metadata": {},
   "source": [
    "### 14.3.3 - D3 Select: select and append specific DOM tags, classes and IDs"
   ]
  },
  {
   "cell_type": "code",
   "execution_count": null,
   "metadata": {
    "vscode": {
     "languageId": "html"
    }
   },
   "outputs": [],
   "source": [
    "<!DOCTYPE html>\n",
    "<html lang=\"en\">\n",
    "\n",
    "<head>\n",
    "  <meta charset=\"UTF-8\">\n",
    "  <meta name=\"viewport\" content=\"width=device-width, initial-scale=1.0\">\n",
    "  <meta http-equiv=\"X-UA-Compatible\" content=\"ie=edge\">\n",
    "  <title>D3 Select</title>\n",
    "  <script src=\"https://d3js.org/d3.v5.min.js\"></script>\n",
    "\n",
    "</head>\n",
    "\n",
    "<body>\n",
    "  <h1>This is an H1</h1>\n",
    "  <div class=\"text1\">This div has a class</div>\n",
    "  <div id=\"text2\">This div has an id</div>\n",
    "  <div class=\"my-link\">\n",
    "    <a href=\"https://github.com/d3/d3-selection\">D3 Home</a>\n",
    "  </div>\n",
    "\n",
    "  <div class=\"deeplink\">\n",
    "    <div class=\"outer\">\n",
    "      <div class=\"inner\">\n",
    "        <a href=\"https://github.com/d3/d3-selection\">D3 Select</a>\n",
    "      </div>\n",
    "    </div>\n",
    "  </div>\n",
    "\n",
    "  <ul>\n",
    "    <li>Item 1</li>\n",
    "    <li>Item 2</li>\n",
    "    <li>Item 3</li>\n",
    "  </ul>\n",
    "</body>\n",
    "<script src=\"static/js/index.js\"></script>\n",
    "\n",
    "</html>"
   ]
  },
  {
   "cell_type": "code",
   "execution_count": null,
   "metadata": {
    "vscode": {
     "languageId": "javascript"
    }
   },
   "outputs": [],
   "source": [
    "// Select the text of an HTML element\n",
    "let text1 = d3.select(\".text1\").text();\n",
    "console.log(\"text1 says: \", text1);\n",
    "\n",
    "let text2 = d3.select(\"#text2\").text();\n",
    "console.log(\"text2 says: \", text2);\n",
    "\n",
    "// Modify the text of an HTML element\n",
    "d3.select(\".text1\").text(\"Hey, I changed this!\");\n",
    "\n",
    "// Capture the HTML of a selection\n",
    "let myLink = d3.select(\".my-link\").html();\n",
    "console.log(\"my-link: \", myLink);\n",
    "\n",
    "// Select an element's child element\n",
    "// An object is returned\n",
    "let myLinkAnchor = d3.select(\".my-link>a\");\n",
    "console.log(myLinkAnchor);\n",
    "\n",
    "// // Capture the child element's href attribute\n",
    "let myLinkAnchorAttribute = myLinkAnchor.attr(\"href\");\n",
    "console.log(\"myLinkAnchorAttribute: \" + myLinkAnchorAttribute);\n",
    "\n",
    "// Change an element's attribute\n",
    "myLinkAnchor.attr(\"href\", \"https://python.org\");\n",
    "\n",
    "// Use chaining to join methods\n",
    "d3.select(\".my-link>a\").attr(\"href\", \"https://nytimes.com\").text(\"Now this is a link to the NYT!!\");\n",
    "\n",
    "// Select all list items, then change their font color\n",
    "d3.selectAll(\"li\").style(\"color\", \"blue\");\n",
    "\n",
    "// Create a new element\n",
    "let li1 = d3.select(\"ul\").append(\"li\");\n",
    "li1.text(\"A new item has been added!\");\n",
    "\n",
    "// Use chaining to create a new element and set its text\n",
    "let li2 = d3.select(\"ul\").append(\"li\").text(\"Another new item!\");\n"
   ]
  },
  {
   "attachments": {},
   "cell_type": "markdown",
   "metadata": {},
   "source": [
    "### 14.3.4 - D3 Select: Add attribute, select, append"
   ]
  },
  {
   "cell_type": "code",
   "execution_count": null,
   "metadata": {
    "vscode": {
     "languageId": "javascript"
    }
   },
   "outputs": [],
   "source": [
    "// The new student and grade to add to the table\n",
    "let newGrade = [\"Wash\", 79];\n",
    "\n",
    "// Use D3 to select the table\n",
    "let table = d3.select(\"table\"); // can also select('.grades')\n",
    "\n",
    "// Use d3 to create a bootstrap striped table\n",
    "// http://getbootstrap.com/docs/3.3/css/#tables-striped\n",
    "table.attr(\"class\", \"table table-striped\");\n",
    "\n",
    "// Use D3 to select the table body\n",
    "let tbody = d3.select(\"tbody\");\n",
    "\n",
    "// Append one table row `tr` to the table body\n",
    "let row = tbody.append(\"tr\");\n",
    "\n",
    "// Append one cell for the student name\n",
    "row.append(\"td\").text(newGrade[0]);\n",
    "\n",
    "// Append one cell for the student grade\n",
    "row.append(\"td\").text(newGrade[1]);"
   ]
  },
  {
   "attachments": {},
   "cell_type": "markdown",
   "metadata": {},
   "source": [
    "### 14.3.5 - Event listeners: buttons and input fields"
   ]
  },
  {
   "cell_type": "code",
   "execution_count": null,
   "metadata": {
    "vscode": {
     "languageId": "html"
    }
   },
   "outputs": [],
   "source": [
    "<!DOCTYPE html>\n",
    "<html lang=\"en\">\n",
    "\n",
    "<head>\n",
    "  <meta charset=\"UTF-8\">\n",
    "  <meta name=\"viewport\" content=\"width=device-width, initial-scale=1.0\">\n",
    "  <meta http-equiv=\"X-UA-Compatible\" content=\"ie=edge\">\n",
    "  <title>Event Listeners</title>\n",
    "  <script src=\"https://d3js.org/d3.v5.min.js\"></script>\n",
    "</head>\n",
    "\n",
    "<body>\n",
    "  <div>\n",
    "    <button id=\"click-me\">Click Me!</button>\n",
    "    <input id=\"input-field\" type=\"text\">\n",
    "  </div>\n",
    "  <div class=\"wiki-me\"></div>\n",
    "</body>\n",
    "<script src=\"index.js\" type=\"text/javascript\"></script>\n",
    "\n",
    "</html>"
   ]
  },
  {
   "cell_type": "code",
   "execution_count": null,
   "metadata": {
    "vscode": {
     "languageId": "javascript"
    }
   },
   "outputs": [],
   "source": [
    "// Getting a reference to the button on the page with the id property set to `click-me`\n",
    "let button = d3.select(\"#click-me\");\n",
    "\n",
    "// Getting a reference to the input element on the page with the id property set to 'input-field'\n",
    "let inputField = d3.select(\"#input-field\");\n",
    "\n",
    "// This function is triggered when the button is clicked\n",
    "// function handleClick() {\n",
    "//   console.log(\"A button was clicked!\");\n",
    "\n",
    "//   // We can use d3 to see the object that dispatched the event\n",
    "//   console.log(d3.event.target);\n",
    "// }\n",
    "\n",
    "// We can use the `on` function in d3 to attach an event to the handler function\n",
    "// button.on(\"click\", handleClick);\n",
    "\n",
    "// You can also define the click handler inline\n",
    "button.on(\"click\", function() {\n",
    "  console.log(\"Hi, a button was clicked!\");\n",
    "  console.log(d3.event.target);\n",
    "});\n",
    "\n",
    "// Event handlers are just normal functions that can do anything you want\n",
    "button.on(\"click\", function() {\n",
    "  // Image reference source: https://en.wikipedia.org/wiki/Space_telescope#/media/File:HST-SM4.jpeg\n",
    "  // The Hubble Space Telescope as seen from the departing Space Shuttle Atlantis, flying STS-125, HST Servicing Mission 4.\n",
    "  // Wikipedia/Public Domain\n",
    "  d3.select(\".wiki-me\").html(\"<img src='https://upload.wikimedia.org/wikipedia/commons/thumb/3/3f/HST-SM4.jpeg/440px-HST-SM4.jpeg' alt='space telescope'>\");\n",
    "}); // alternatively, .append('img'),attr('src','https...')\n",
    "\n",
    "// Input fields can trigger a change event when new text is entered.\n",
    "inputField.on(\"change\", function() {\n",
    "  let newText = d3.event.target.value;\n",
    "  console.log(newText);\n",
    "});"
   ]
  },
  {
   "attachments": {},
   "cell_type": "markdown",
   "metadata": {},
   "source": [
    "### 14.3.6"
   ]
  },
  {
   "attachments": {},
   "cell_type": "markdown",
   "metadata": {},
   "source": [
    "# Module 15 - Mapping Web: Leaflet"
   ]
  },
  {
   "attachments": {},
   "cell_type": "markdown",
   "metadata": {},
   "source": [
    "## 15.1 Activities\n",
    "| #  | Lesson Name            | New Content |\n",
    "|----|------------------------|---------|\n",
    "| 1  | Basic map              | adding tile layer to Leaflet map      |\n",
    "| 2  | Markers                | adding marker w/ popup to Leaflet map |\n",
    "| 3  | City markers           | adding multiple markers from an array |\n",
    "| 4  | Other markers (ins)    | adding circles, polygons, lines, polylines, and rectangles to a map |\n",
    "| 5  | Other markers (stu)    | same as above |\n",
    "| 6  | City population        | adjust marker radius based on value |\n",
    "| 7  | County GDP             | adjust marker color based on value  |\n",
    "| 8  | Layers                 | add basemap and overlay map layers|\n",
    "| 9  | City population layers | same as above |\n",
    "| 10 | GeoJSON                | create map using GeoJSON data format |"
   ]
  },
  {
   "attachments": {},
   "cell_type": "markdown",
   "metadata": {},
   "source": [
    "### 15.1.1 - Basic Leaflet Map"
   ]
  },
  {
   "cell_type": "code",
   "execution_count": null,
   "metadata": {
    "vscode": {
     "languageId": "javascript"
    }
   },
   "outputs": [],
   "source": [
    "// 15.1.1\n",
    "// Set initial parameters for Leaflet map\n",
    "var myMap = L.map('map', {\n",
    "    center: [45.52, -122.67],\n",
    "    zoom: 13\n",
    "});\n",
    "\n",
    "// adding tile layer to Leaflet map\n",
    "L.tileLayer('https://{s}.tile.openstreetmap.org/{z}/{x}/{y}.png', {\n",
    "    attribution: '&copy; <a href=\"https://www.openstreetmap.org/copyright\">OpenStreetMap</a> contributors'\n",
    "}).addTo(myMap);"
   ]
  },
  {
   "cell_type": "code",
   "execution_count": null,
   "metadata": {
    "vscode": {
     "languageId": "html"
    }
   },
   "outputs": [],
   "source": [
    "<!-- basic html setup for Leaflet -->\n",
    "<!DOCTYPE html>\n",
    "<html lang=\"en\">\n",
    "\n",
    "<head>\n",
    "  <meta charset=\"utf-8\">\n",
    "  <title>Basic Map</title>\n",
    "\n",
    "  <!-- Leaflet CSS -->\n",
    "  <link rel=\"stylesheet\" href=\"https://unpkg.com/leaflet@1.6.0/dist/leaflet.css\"\n",
    "    integrity=\"sha512-xwE/Az9zrjBIphAcBb3F6JVqxf46+CDLwfLMHloNu6KEQCAWi6HcDUbeOfBIptF7tcCzusKFjFw2yuvEpDL9wQ==\"\n",
    "    crossorigin=\"\" />\n",
    "\n",
    "  <!-- Leaflet JavaScript code -->\n",
    "  <script src=\"https://unpkg.com/leaflet@1.6.0/dist/leaflet.js\"\n",
    "    integrity=\"sha512-gZwIG9x3wUXg2hdXF6+rVkLF/0Vi9U8D2Ntg4Ga5I5BZpVkVxlJWbSQtXPSiUTtC0TjtGOmxa1AJPuV0CPthew==\"\n",
    "    crossorigin=\"\"></script>\n",
    "\n",
    "  <!-- Our CSS -->\n",
    "  <link rel=\"stylesheet\" type=\"text/css\" href=\"style.css\">\n",
    "</head>\n",
    "\n",
    "<body>\n",
    "  <!-- The div where we'll insert our map -->\n",
    "  <div id=\"map\"></div>\n",
    "\n",
    "  <!-- JavaScript file -->\n",
    "  <script type=\"text/javascript\" src=\"logic.js\"></script>\n",
    "\n",
    "</body>\n",
    "</html>\n",
    "\n",
    "<!-- In style.css file -->\n",
    "<style>\n",
    "  /* Remove the default margin and padding from the body. */\n",
    "  body {\n",
    "    padding: 0;\n",
    "    margin: 0;\n",
    "  }\n",
    "\n",
    "  /* Set map, body, and html to 100% of the screen size. */\n",
    "  #map,\n",
    "  body,\n",
    "  html {\n",
    "    height: 100%;\n",
    "  }\n",
    "</style>"
   ]
  },
  {
   "attachments": {},
   "cell_type": "markdown",
   "metadata": {},
   "source": [
    "### 15.1.2 - Markers"
   ]
  },
  {
   "cell_type": "code",
   "execution_count": null,
   "metadata": {
    "vscode": {
     "languageId": "javascript"
    }
   },
   "outputs": [],
   "source": [
    "// See 15.1 for HTML/CSS setup\n",
    "\n",
    "// Create new marker\n",
    "var marker = L.marker([45.52, -122.67], {\n",
    "    draggable: true,\n",
    "    title: \"My First Marker\"\n",
    "  }).addTo(myMap);\n",
    "\n",
    "// Bind popup to marker\n",
    "marker.bindPopup(\"I'm a popup\");"
   ]
  },
  {
   "attachments": {},
   "cell_type": "markdown",
   "metadata": {},
   "source": [
    "### 15.1.3 - City Markers: looping through an array"
   ]
  },
  {
   "cell_type": "code",
   "execution_count": null,
   "metadata": {
    "vscode": {
     "languageId": "javascript"
    }
   },
   "outputs": [],
   "source": [
    "// An array containing each city's name, location, and population\n",
    "var cities = [{\n",
    "    location: [40.7128, -74.0059],\n",
    "    name: \"New York\",\n",
    "    population: 8550405\n",
    "  },\n",
    "  {\n",
    "    location: [41.8781, -87.6298],\n",
    "    name: \"Chicago\",\n",
    "    population: 2720546\n",
    "  },\n",
    "  {\n",
    "    location: [29.7604, -95.3698],\n",
    "    name: \"Houston\",\n",
    "    population: 2296224\n",
    "  },\n",
    "  {\n",
    "    location: [34.0522, -118.2437],\n",
    "    name: \"Los Angeles\",\n",
    "    population: 3971883\n",
    "  },\n",
    "  {\n",
    "    location: [41.2524, -95.9980],\n",
    "    name: \"Omaha\",\n",
    "    population: 446599\n",
    "  }\n",
    "  ];\n",
    "  \n",
    "  // Looping through the cities array, create one marker for each city, bind a popup containing its name and population, and add it to the map.\n",
    "  for (var i = 0; i < cities.length; i++) {\n",
    "    var city = cities[i];\n",
    "    L.marker(city.location)\n",
    "      .bindPopup(`<h1>${city.name}</h1> <hr> <h3>Population ${city.population.toLocaleString()}</h3>`)\n",
    "      .addTo(myMap);\n",
    "  }"
   ]
  },
  {
   "attachments": {},
   "cell_type": "markdown",
   "metadata": {},
   "source": [
    "### 15.1.4 - Other Markers: circle, polygon, line, polyline, rectangle"
   ]
  },
  {
   "cell_type": "code",
   "execution_count": null,
   "metadata": {
    "vscode": {
     "languageId": "javascript"
    }
   },
   "outputs": [],
   "source": [
    "// Create a new marker.\n",
    "L.marker([45.52, -122.67]).addTo(myMap);\n",
    "\n",
    "// Create a circle, and pass in some initial options.\n",
    "L.circle([45.52, -122.69], {\n",
    "  color: \"green\",\n",
    "  fillColor: \"green\",\n",
    "  fillOpacity: 0.75,\n",
    "  radius: 500\n",
    "}).addTo(myMap);\n",
    "\n",
    "// Create a Polygon, and pass in some initial options.\n",
    "L.polygon([\n",
    "  [45.54, -122.68],\n",
    "  [45.55, -122.68],\n",
    "  [45.55, -122.66]\n",
    "], {\n",
    "  color: \"yellow\",\n",
    "  fillColor: \"yellow\",\n",
    "  fillOpacity: 0.75\n",
    "}).addTo(myMap);\n",
    "\n",
    "// The coordinates for each point to use in the polyline\n",
    "var line = [\n",
    "  [45.51, -122.68],\n",
    "  [45.50, -122.60],\n",
    "  [45.48, -122.70],\n",
    "  [45.54, -122.75]\n",
    "];\n",
    "\n",
    "// Create a polyline by using the line coordinates, and pass in some initial options.\n",
    "L.polyline(line, {\n",
    "  color: \"red\"\n",
    "}).addTo(myMap);\n",
    "\n",
    "// Create a rectangle, and pass in some initial options.\n",
    "L.rectangle([\n",
    "  [45.55, -122.64],\n",
    "  [45.54, -122.61]\n",
    "], {\n",
    "  color: \"black\",\n",
    "  weight: 3,\n",
    "  stroke: true\n",
    "}).addTo(myMap);"
   ]
  },
  {
   "attachments": {},
   "cell_type": "markdown",
   "metadata": {},
   "source": [
    "### 15.1.6 - City Population: Adjust marker radius"
   ]
  },
  {
   "cell_type": "code",
   "execution_count": null,
   "metadata": {
    "vscode": {
     "languageId": "javascript"
    }
   },
   "outputs": [],
   "source": [
    "// Each city object contains the city's name, location, and population.\n",
    "// Population Data Source: U.S. 2020 Decennial Census\n",
    "var cities = [\n",
    "  {\n",
    "    name: \"New York\",\n",
    "    location: [40.7128, -74.0059],\n",
    "    population: 8804190\n",
    "  },\n",
    "  {\n",
    "    name: \"Chicago\",\n",
    "    location: [41.8781, -87.6298],\n",
    "    population: 2746388\n",
    "  },\n",
    "  {\n",
    "    name: \"Houston\",\n",
    "    location: [29.7604, -95.3698],\n",
    "    population: 2304580\n",
    "  },\n",
    "  {\n",
    "    name: \"Los Angeles\",\n",
    "    location: [34.0522, -118.2437],\n",
    "    population: 3898747\n",
    "  },\n",
    "  {\n",
    "    name: \"Omaha\",\n",
    "    location: [41.2524, -95.9980],\n",
    "    population: 486051\n",
    "  }\n",
    "];\n",
    "\n",
    "// Define a markerSize() function that will give each city a different radius based on its population.\n",
    "function markerSize(population) {\n",
    "    return Math.sqrt(population) * 50;\n",
    "  }\n",
    "\n",
    "// Loop through the cities array, and create one marker for each city object.\n",
    "for (var i = 0; i < cities.length; i++) {\n",
    "    L.circle(cities[i].location, {\n",
    "      fillOpacity: 0.75,\n",
    "      color: \"white\",\n",
    "      fillColor: \"purple\",\n",
    "      // Setting our circle's radius to equal the output of our markerSize() function:\n",
    "      // This will make our marker's size proportionate to its population.\n",
    "      radius: markerSize(cities[i].population)\n",
    "    }).bindPopup(`<h1>${cities[i].name}</h1> <hr> <h3>Population: ${cities[i].population.toLocaleString()}</h3>`).addTo(myMap);\n",
    "  }"
   ]
  },
  {
   "attachments": {},
   "cell_type": "markdown",
   "metadata": {},
   "source": [
    "### 15.1.7 - Country GDP: Adjust marker color based on value"
   ]
  },
  {
   "cell_type": "code",
   "execution_count": null,
   "metadata": {
    "vscode": {
     "languageId": "javascript"
    }
   },
   "outputs": [],
   "source": [
    "// Country data\n",
    "var countries = [\n",
    "    {\n",
    "      name: \"Luxembourg\",\n",
    "      location: [49.815273, 6.129583],\n",
    "      gdp_pc: 116014.6025\n",
    "    },\n",
    "    {\n",
    "      name: \"Switzerland\",\n",
    "      location: [46.818188, 8.227512],\n",
    "      gdp_pc: 87097.03645\n",
    "    },\n",
    "    {\n",
    "      name: \"United States\",\n",
    "      location: [37.09024, -95.712891],\n",
    "      gdp_pc: 63413.51386\n",
    "    },\n",
    "    {\n",
    "      name: \"Israel\",\n",
    "      location: [31.046051, 34.851612],\n",
    "      gdp_pc: 44168.94364\n",
    "    }\n",
    "  ];\n",
    "  \n",
    "// Loop through the cities array, and create one marker for each city object.\n",
    "for (var i = 0; i < countries.length; i++) {\n",
    "  \n",
    "// Conditionals for country gdp_pc\n",
    "    var color = \"\";\n",
    "    if (countries[i].gdp_pc > 100000) {\n",
    "      color = \"yellow\";\n",
    "    }\n",
    "    else if (countries[i].gdp_pc > 75000) {\n",
    "      color = \"blue\";\n",
    "    }\n",
    "    else if (countries[i].gdp_pc > 50000) {\n",
    "      color = \"green\";\n",
    "    }\n",
    "    else {\n",
    "      color = \"violet\";\n",
    "    }\n",
    "  \n",
    "    // Add circles to the map.\n",
    "    L.circle(countries[i].location, {\n",
    "      fillOpacity: 0.75,\n",
    "      color: \"white\",\n",
    "      fillColor: color,\n",
    "      // Adjust the radius.\n",
    "      radius: Math.sqrt(countries[i].gdp_pc) * 500\n",
    "    }).bindPopup(`<h1>${countries[i].name}</h1> <hr> <h3>GDP Per Capita (USD): ${countries[i].gdp_pc}</h3>`).addTo(myMap);\n",
    "};"
   ]
  },
  {
   "attachments": {},
   "cell_type": "markdown",
   "metadata": {},
   "source": [
    "### 15.1.8 - Layers: basemap and overlay"
   ]
  },
  {
   "cell_type": "code",
   "execution_count": null,
   "metadata": {
    "vscode": {
     "languageId": "javascript"
    }
   },
   "outputs": [],
   "source": [
    "// An array of cities and their locations\n",
    "var cities = [\n",
    "    {\n",
    "      name: \"Paris\",\n",
    "      location: [48.8566, 2.3522]\n",
    "    },\n",
    "    {\n",
    "      name: \"Lyon\",\n",
    "      location: [45.7640, 4.8357]\n",
    "    },\n",
    "    {\n",
    "      name: \"Cannes\",\n",
    "      location: [43.5528, 7.0174]\n",
    "    },\n",
    "    {\n",
    "      name: \"Nantes\",\n",
    "      location: [47.2184, -1.5536]\n",
    "    }\n",
    "  ];\n",
    "  \n",
    "  // An array that will store the created cityMarkers\n",
    "  var cityMarkers = [];\n",
    "  \n",
    "  for (var i = 0; i < cities.length; i++) {\n",
    "    // loop through the cities array, create a new marker, and push it to the cityMarkers array\n",
    "    cityMarkers.push(\n",
    "      L.marker(cities[i].location).bindPopup(\"<h1>\" + cities[i].name + \"</h1>\")\n",
    "    );\n",
    "  }\n",
    "  \n",
    "  // Add all the cityMarkers to a new layer group.\n",
    "  // Now, we can handle them as one group instead of referencing each one individually.\n",
    "  var cityLayer = L.layerGroup(cityMarkers);\n",
    "  \n",
    "  // Define variables for our tile layers.\n",
    "  var street = L.tileLayer('https://{s}.tile.openstreetmap.org/{z}/{x}/{y}.png', {\n",
    "      attribution: '&copy; <a href=\"https://www.openstreetmap.org/copyright\">OpenStreetMap</a> contributors'\n",
    "  })\n",
    "  \n",
    "  var topo = L.tileLayer('https://{s}.tile.opentopomap.org/{z}/{x}/{y}.png', {\n",
    "      attribution: 'Map data: &copy; <a href=\"https://www.openstreetmap.org/copyright\">OpenStreetMap</a> contributors, <a href=\"http://viewfinderpanoramas.org\">SRTM</a> | Map style: &copy; <a href=\"https://opentopomap.org\">OpenTopoMap</a> (<a href=\"https://creativecommons.org/licenses/by-sa/3.0/\">CC-BY-SA</a>)'\n",
    "  });\n",
    "  \n",
    "  // Only one base layer can be shown at a time.\n",
    "  var baseMaps = {\n",
    "    Street: street,\n",
    "    \"Topographic Map\": topo\n",
    "  };\n",
    "  \n",
    "  // Overlays that can be toggled on or off\n",
    "  var overlayMaps = {\n",
    "    Cities: cityLayer\n",
    "  };\n",
    "  \n",
    "  // Create a map object, and set the default layers.\n",
    "  var myMap = L.map(\"map\", {\n",
    "    center: [46.2276, 2.2137],\n",
    "    zoom: 6,\n",
    "    layers: [street, cityLayer]\n",
    "  });\n",
    "  \n",
    "  // Pass our map layers into our layer control.\n",
    "  // Add the layer control to the map.\n",
    "  L.control.layers(baseMaps, overlayMaps, {\n",
    "    collapsed: false\n",
    "  }).addTo(myMap);"
   ]
  },
  {
   "attachments": {},
   "cell_type": "markdown",
   "metadata": {},
   "source": [
    "### 15.1.10 - GeoJSON"
   ]
  },
  {
   "cell_type": "code",
   "execution_count": null,
   "metadata": {
    "vscode": {
     "languageId": "javascript"
    }
   },
   "outputs": [],
   "source": [
    "// Store our API endpoint as queryUrl.\n",
    "var queryUrl = \"https://earthquake.usgs.gov/fdsnws/event/1/query?format=geojson&starttime=2021-01-01&endtime=2021-01-02&maxlongitude=-69.52148437&minlongitude=-123.83789062&maxlatitude=48.74894534&minlatitude=25.16517337\";\n",
    "\n",
    "// Perform a GET request to the query URL/\n",
    "d3.json(queryUrl).then(function (data) {\n",
    "  // Once we get a response, send the data.features object to the createFeatures function.\n",
    "  createFeatures(data.features);\n",
    "});\n",
    "\n",
    "var earthquakeLayer = L.layerGroup();\n",
    "\n",
    "function createFeatures(earthquakeData) {\n",
    "\n",
    "  // Define a function that we want to run once for each feature in the features array.\n",
    "  // Give each feature a popup that describes the place and time of the earthquake.\n",
    "  function onEachFeature(feature, layer) {\n",
    "    layer.bindPopup(`<h3>${feature.properties.place}</h3><hr><p>${new Date(feature.properties.time)}</p>`);\n",
    "  }\n",
    "\n",
    "  // Create a GeoJSON layer that contains the features array on the earthquakeData object.\n",
    "  // Run the onEachFeature function once for each piece of data in the array.\n",
    "  L.geoJSON(earthquakeData, {\n",
    "    onEachFeature: onEachFeature\n",
    "  }).addTo(earthquakeLayer);\n",
    "\n",
    "  // Send our earthquakes layer to the createMap function/\n",
    "  createMap();\n",
    "}\n",
    "\n",
    "function createMap() {\n",
    "\n",
    "  // Create the base layers.\n",
    "  var street = L.tileLayer('https://{s}.tile.openstreetmap.org/{z}/{x}/{y}.png', {\n",
    "    attribution: '&copy; <a href=\"https://www.openstreetmap.org/copyright\">OpenStreetMap</a> contributors'\n",
    "  })\n",
    "\n",
    "  var topo = L.tileLayer('https://{s}.tile.opentopomap.org/{z}/{x}/{y}.png', {\n",
    "    attribution: 'Map data: &copy; <a href=\"https://www.openstreetmap.org/copyright\">OpenStreetMap</a> contributors, <a href=\"http://viewfinderpanoramas.org\">SRTM</a> | Map style: &copy; <a href=\"https://opentopomap.org\">OpenTopoMap</a> (<a href=\"https://creativecommons.org/licenses/by-sa/3.0/\">CC-BY-SA</a>)'\n",
    "  });\n",
    "\n",
    "  // Create a baseMaps object.\n",
    "  var baseMaps = {\n",
    "    \"Street Map\": street,\n",
    "    \"Topographic Map\": topo\n",
    "  };\n",
    "\n",
    "  // Create an overlay object to hold our overlay.\n",
    "  var overlayMaps = {\n",
    "    Earthquakes: earthquakeLayer\n",
    "  };\n",
    "\n",
    "  // Create our map, giving it the streetmap and earthquakes layers to display on load.\n",
    "  var myMap = L.map(\"map\", {\n",
    "    center: [37.09, -95.71],\n",
    "    zoom: 5,\n",
    "    layers: [street, earthquakeLayer]\n",
    "  });\n",
    "\n",
    "  // Create a layer control.\n",
    "  // Pass it our baseMaps and overlayMaps.\n",
    "  // Add the layer control to the map.\n",
    "  L.control.layers(baseMaps, overlayMaps, {\n",
    "    collapsed: false\n",
    "  }).addTo(myMap);\n",
    "}\n"
   ]
  },
  {
   "cell_type": "markdown",
   "metadata": {},
   "source": []
  }
 ],
 "metadata": {
  "kernelspec": {
   "display_name": "Python 3",
   "language": "python",
   "name": "python3"
  },
  "language_info": {
   "codemirror_mode": {
    "name": "ipython",
    "version": 3
   },
   "file_extension": ".py",
   "mimetype": "text/x-python",
   "name": "python",
   "nbconvert_exporter": "python",
   "pygments_lexer": "ipython3",
   "version": "3.10.9 (tags/v3.10.9:1dd9be6, Dec  6 2022, 20:01:21) [MSC v.1934 64 bit (AMD64)]"
  },
  "orig_nbformat": 4,
  "vscode": {
   "interpreter": {
    "hash": "75b7b1ee9e03c7943b3e9394e3b9d2b1547020053b48c65a2d85fd95e03bbce6"
   }
  }
 },
 "nbformat": 4,
 "nbformat_minor": 2
}
